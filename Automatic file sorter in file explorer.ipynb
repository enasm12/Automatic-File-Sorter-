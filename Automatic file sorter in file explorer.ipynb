{
 "cells": [
  {
   "cell_type": "code",
   "execution_count": 98,
   "id": "62d5d6a8-c506-466b-a752-7a24a5500362",
   "metadata": {},
   "outputs": [
    {
     "name": "stdout",
     "output_type": "stream",
     "text": [
      "File CASE STATEMENTS.sql does not match any criteria for organization.\n",
      "csv files is not a file, skipping...\n",
      "image files is not a file, skipping...\n",
      "text files is not a file, skipping...\n"
     ]
    }
   ],
   "source": [
    "import os\n",
    "import shutil\n",
    "\n",
    "\n",
    "base_path = r\"C:\\Users\\hp\\Desktop\\Data analysis\\Anaconda\\Project\"\n",
    "\n",
    "folder_names = ['csv files', 'image files', 'text files']\n",
    "for folder_name in folder_names:\n",
    "    folder_path = os.path.join(base_path, folder_name)\n",
    "    if not os.path.exists(folder_path):\n",
    "        os.makedirs(folder_path)\n",
    "        print(f\"Created directory: {folder_path}\")\n",
    "\n",
    "file_names = os.listdir(base_path)\n",
    "\n",
    "for file in file_names:\n",
    "    source_file_path = os.path.join(base_path, file)  \n",
    "    if os.path.isfile(source_file_path):\n",
    "        if file.endswith('.csv'):\n",
    "            destination_path = os.path.join(base_path, 'csv files', file)\n",
    "            shutil.move(source_file_path, destination_path)\n",
    "            print(f\"Moved: {file} to csv files/\")\n",
    "        elif file.endswith(('.jpg', '.jpeg', '.png')):\n",
    "            destination_path = os.path.join(base_path, 'image files', file)\n",
    "            shutil.move(source_file_path, destination_path)\n",
    "            print(f\"Moved: {file} to image files/\")\n",
    "        elif file.endswith('.txt'):\n",
    "            destination_path = os.path.join(base_path, 'text files', file)\n",
    "            shutil.move(source_file_path, destination_path)\n",
    "            print(f\"Moved: {file} to text files/\")\n",
    "        else:\n",
    "            print(f\"File {file} does not match any criteria for organization.\")\n",
    "    else:\n",
    "        print(f\"{file} is not a file, skipping...\")"
   ]
  },
  {
   "cell_type": "code",
   "execution_count": null,
   "id": "04726c19-b5b4-4caf-86f3-21f3753b0bc6",
   "metadata": {},
   "outputs": [],
   "source": [
    "import os\n",
    "import shutil  "
   ]
  },
  {
   "cell_type": "code",
   "execution_count": 44,
   "id": "48213ccd-b4cb-4e86-82f2-150ac94c2566",
   "metadata": {},
   "outputs": [],
   "source": [
    "path = r\"C:\\Users\\hp\\Desktop\\Data analysis\\Anaconda\\Project\""
   ]
  },
  {
   "cell_type": "code",
   "execution_count": 6,
   "id": "2243cf9c-061e-4a1d-bb73-260a38830017",
   "metadata": {},
   "outputs": [
    {
     "data": {
      "text/plain": [
       "['CASE STATEMENTS.sql', 'download (1).jpeg', 'download.jpeg', 'layoffs.csv']"
      ]
     },
     "execution_count": 6,
     "metadata": {},
     "output_type": "execute_result"
    }
   ],
   "source": [
    "os.listdir(path)"
   ]
  },
  {
   "cell_type": "code",
   "execution_count": 94,
   "id": "75123346-6c8f-4437-a016-90d828ed9ca3",
   "metadata": {},
   "outputs": [],
   "source": [
    "folder_names =['csv files', 'image files', 'text files' ]\n",
    "for i in range (len(folder_names)):\n",
    "    directory= os.path.join(path, folder_names [i])\n",
    "    if not os.path.exists(directory):\n",
    "         os.makedirs(directory)"
   ]
  },
  {
   "cell_type": "code",
   "execution_count": 84,
   "id": "b2a116ba-0c21-4a4d-b141-2116c2eaa758",
   "metadata": {},
   "outputs": [],
   "source": [
    "file_name = os.listdir(path)\n",
    "source_file_path = os.path.join(path, file)\n"
   ]
  },
  {
   "cell_type": "code",
   "execution_count": 96,
   "id": "3bc34c56-7b63-4eeb-af27-b7a06f00e2fb",
   "metadata": {},
   "outputs": [
    {
     "name": "stdout",
     "output_type": "stream",
     "text": [
      "CASE STATEMENTS.sql is of a different type\n",
      "csv files is of a different type\n",
      "download (1).jpeg is of a different type\n",
      "download.jpeg is of a different type\n",
      "image files is of a different type\n",
      "layoffs.csv is of a different type\n",
      "text files is of a different type\n"
     ]
    }
   ],
   "source": [
    "for file in file_name:\n",
    "      if os.path.isfile(source_file_path):\n",
    "            if file.endswith('.csv') and not os.path.exists(os.path.join(directory + 'csv.files' + file)):\n",
    "                shutil.move(source_file_path, os.path.join(directory, 'csv files', file))\n",
    "            elif file.endswith('.jpg', '.jpeg', '.png')  and not os.path.exists(os.path.join(directory + 'image files' + file)):\n",
    "                shutil.move(source_file_path, os.path.join(directory, 'image files', file))\n",
    "            elif file.endswith('.txt' ) and not os.path.exists(os.path.join(directory + ' textfiles' + file)):\n",
    "                shutil.move(source_file_path, os.path.join(directory, 'text files', file))\n",
    "      else:\n",
    "          print(f'{file} is of a different type')\n",
    "        "
   ]
  },
  {
   "cell_type": "code",
   "execution_count": null,
   "id": "204b4dac-9a6c-47b8-91f9-6ee1c718890e",
   "metadata": {},
   "outputs": [],
   "source": []
  },
  {
   "cell_type": "code",
   "execution_count": null,
   "id": "b5e477c9-c4a0-4b93-99f8-ac712c47a985",
   "metadata": {},
   "outputs": [],
   "source": []
  },
  {
   "cell_type": "code",
   "execution_count": null,
   "id": "89b492fb-6c95-4902-b755-2558cc875aed",
   "metadata": {},
   "outputs": [],
   "source": []
  },
  {
   "cell_type": "code",
   "execution_count": null,
   "id": "e1528db4-ecd7-4788-89ad-42c7e5ac44a1",
   "metadata": {},
   "outputs": [],
   "source": []
  },
  {
   "cell_type": "code",
   "execution_count": null,
   "id": "e0f881be-7d7b-4206-accc-c5867c7f844d",
   "metadata": {},
   "outputs": [],
   "source": []
  },
  {
   "cell_type": "code",
   "execution_count": null,
   "id": "103b8847-efca-4150-a50d-d00d30bbfe6a",
   "metadata": {},
   "outputs": [],
   "source": []
  },
  {
   "cell_type": "code",
   "execution_count": null,
   "id": "571b6d90-a8ee-4c63-8a93-1698dc413fe7",
   "metadata": {},
   "outputs": [],
   "source": []
  },
  {
   "cell_type": "code",
   "execution_count": null,
   "id": "1d1e4f06-4711-47d9-8bba-eaaca1b04da5",
   "metadata": {},
   "outputs": [],
   "source": []
  },
  {
   "cell_type": "code",
   "execution_count": null,
   "id": "9bf2ee9e-4f1c-4238-8801-a043f3f7fb41",
   "metadata": {},
   "outputs": [],
   "source": []
  },
  {
   "cell_type": "code",
   "execution_count": null,
   "id": "0f267412-b532-4bde-bbcd-91d66eeebd51",
   "metadata": {},
   "outputs": [],
   "source": []
  },
  {
   "cell_type": "code",
   "execution_count": null,
   "id": "8b280a4a-43b9-4ff0-9f2f-e336979f8e71",
   "metadata": {},
   "outputs": [],
   "source": []
  },
  {
   "cell_type": "code",
   "execution_count": null,
   "id": "5b44bb15-b625-4875-be98-b88bc24b7ef3",
   "metadata": {},
   "outputs": [],
   "source": []
  },
  {
   "cell_type": "code",
   "execution_count": null,
   "id": "2b3c2918-b61a-436e-b7f3-740f3fcbc8e6",
   "metadata": {},
   "outputs": [],
   "source": []
  },
  {
   "cell_type": "code",
   "execution_count": null,
   "id": "47020884-2c92-4bec-a2a8-e0253a2ad245",
   "metadata": {},
   "outputs": [],
   "source": []
  },
  {
   "cell_type": "code",
   "execution_count": null,
   "id": "071113b5-78df-4a27-a891-03874200e10a",
   "metadata": {},
   "outputs": [],
   "source": []
  }
 ],
 "metadata": {
  "kernelspec": {
   "display_name": "Python 3 (ipykernel)",
   "language": "python",
   "name": "python3"
  },
  "language_info": {
   "codemirror_mode": {
    "name": "ipython",
    "version": 3
   },
   "file_extension": ".py",
   "mimetype": "text/x-python",
   "name": "python",
   "nbconvert_exporter": "python",
   "pygments_lexer": "ipython3",
   "version": "3.12.7"
  }
 },
 "nbformat": 4,
 "nbformat_minor": 5
}
